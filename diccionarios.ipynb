{
  "nbformat": 4,
  "nbformat_minor": 0,
  "metadata": {
    "colab": {
      "provenance": [],
      "authorship_tag": "ABX9TyPCgR0m5ACLYBGRYGeFdpaN",
      "include_colab_link": true
    },
    "kernelspec": {
      "name": "python3",
      "display_name": "Python 3"
    },
    "language_info": {
      "name": "python"
    }
  },
  "cells": [
    {
      "cell_type": "markdown",
      "metadata": {
        "id": "view-in-github",
        "colab_type": "text"
      },
      "source": [
        "<a href=\"https://colab.research.google.com/github/spartan117345/diccionarios/blob/main/diccionarios.ipynb\" target=\"_parent\"><img src=\"https://colab.research.google.com/assets/colab-badge.svg\" alt=\"Open In Colab\"/></a>"
      ]
    },
    {
      "cell_type": "markdown",
      "source": [
        "# diccionarios\n",
        "- son estrucutras , es decir referencia a una coleccion de datos\n",
        "- son una oleccion desordenada de pares de datos de la forma clave : valor, conocidos como elementos o items\n",
        "- son mutables por tanto una vez indefinido un diccionario se le pueden agregar nuevos elementos , modficiar o eliminar algunos de los que ya tiene .\n",
        "- tambien se les conoce como mapa de hash o arreglos asociativo\n",
        "- en python los diccionarios son de tipo dict y se utiliza la siguiente sintaxis para crear una variable de este tipo:\n",
        "\n",
        "`nombre_dict {clave:valor1, cllave2:valor2, ...} `\n",
        "\n",
        "- cada item o elemento tiene la forma clave:valor\n",
        "- en cada item hay una clave y uno o mas valores, si se desconoce el valor se puede llenar con `None`\n",
        "- los elementos del diccionario se indexan por la clave.\n",
        "- las claves solo pueden ser datos inmutables\n",
        "- las claves no pueden repetirse en un diccionario\n"
      ],
      "metadata": {
        "id": "fqTjSnzVqjW3"
      }
    },
    {
      "cell_type": "code",
      "execution_count": 10,
      "metadata": {
        "id": "jxNnvkw5qhUZ",
        "colab": {
          "base_uri": "https://localhost:8080/"
        },
        "outputId": "f06171c9-2f32-46ad-ab9d-95c8fb848887"
      },
      "outputs": [
        {
          "output_type": "stream",
          "name": "stdout",
          "text": [
            "{'enero': 1, 'febrero': 2, 'marzo': 3, 'abril': 4, 'mayo': 5, 'jun': 6, 'julio': 7, 'agosto': 8, 'septiembre': 9, 'octubre': 10, 'noviembre': 11, 'diciembre': 12}\n",
            "{1: 'enero', 2: 'febrero', 3: 'marzo', 4: 'abril', 5: 'mayo', 6: 'junio', 7: 'julio', 8: 'agosto', 9: 'septiembre', 10: 'octubre', 11: 'noviembre', 12: 'diciembre'}\n",
            "{'manzana': 34, 'pera': 45, 'uva': 23}\n",
            "{'manzana': 34, 'pera': 45, 'uva': 23, 'cereza': 90}\n",
            "{'manzana': 34, 'pera': 45, 'uva': 23, 'cereza': 100}\n",
            "{'manzana': 34, 'pera': 45, 'uva': 23}\n",
            "el valor de manzana es:  34\n",
            "la clave de valor 45 es:  pera\n"
          ]
        }
      ],
      "source": [
        "# diccionario con clave tipo cadena\n",
        "\n",
        "num_meses = {'enero':1, 'febrero':2, 'marzo':3, 'abril':4, 'mayo':5, 'jun':6, 'julio':7, 'agosto':8, 'septiembre':9, 'octubre':10, 'noviembre':11, 'diciembre':12}\n",
        "print(num_meses)\n",
        "\n",
        "nombre_meses = {1:'enero', 2:'febrero', 3:'marzo', 4:'abril',5:'mayo', 6:'junio', 7:'julio', 8:'agosto', 9:'septiembre', 10:'octubre', 11:'noviembre', 12:'diciembre'}\n",
        "print(nombre_meses)\n",
        "\n",
        "frutas = {'manzana':34, 'pera':45, 'uva':23}\n",
        "print(frutas)\n",
        "\n",
        "# agregar elementos\n",
        "\n",
        "frutas['cereza'] = 90\n",
        "print(frutas)\n",
        "\n",
        "# modificar un elemento\n",
        "\n",
        "frutas['cereza'] = 100\n",
        "print(frutas)\n",
        "\n",
        "# eliminar un elemento\n",
        "\n",
        "del frutas['cereza']\n",
        "print(frutas)\n",
        "\n",
        "# consultar valor dada a una clave\n",
        "\n",
        "print('el valor de manzana es: ', frutas['manzana'])\n",
        "\n"
      ]
    }
  ]
}